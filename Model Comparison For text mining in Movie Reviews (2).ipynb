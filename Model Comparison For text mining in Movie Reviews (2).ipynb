{
 "cells": [
  {
   "cell_type": "code",
   "execution_count": null,
   "metadata": {},
   "outputs": [],
   "source": [
    "##### LIBRARIES\n",
    "\n",
    "import numpy as np \n",
    "import pandas as pd\n",
    "from subprocess import check_output\n",
    "import string\n",
    "import re\n",
    "from nltk.stem.wordnet import WordNetLemmatizer\n",
    "from nltk.tokenize import word_tokenize\n",
    "from nltk.stem.snowball import SnowballStemmer\n",
    "from sklearn.ensemble import ExtraTreesClassifier\n",
    "from sklearn.preprocessing import LabelEncoder\n",
    "from sklearn.feature_extraction.text import TfidfVectorizer\n",
    "from sklearn.cluster import KMeans\n",
    "from sklearn.metrics import adjusted_rand_score\n",
    "from collections import Counter\n",
    "import matplotlib.pyplot as plt\n",
    "import plotly.plotly as py\n",
    "import operator\n",
    "from sklearn.feature_extraction.text import CountVectorizer\n",
    "from wordcloud import WordCloud\n",
    "import time\n",
    "from sklearn.metrics import accuracy_score\n",
    "from sklearn.linear_model import LogisticRegression\n",
    "from sklearn.neighbors import KNeighborsClassifier\n",
    "from sklearn.naive_bayes import MultinomialNB\n",
    "from sklearn.tree import DecisionTreeClassifier\n",
    "from sklearn.ensemble import RandomForestClassifier\n",
    "from sklearn.model_selection import GridSearchCV\n",
    "from sklearn.svm import SVC\n",
    "from sklearn.cluster import AgglomerativeClustering\n",
    "import pandas as pd\n",
    "import os\n",
    "from nltk.corpus import stopwords\n",
    "import nltk\n",
    "#nltk.download('stopwords')\n",
    "import nltk\n",
    "#nltk.download('punkt')\n",
    "#nltk.download('wordnet')\n",
    "import pickle\n",
    "from sklearn import model_selection\n",
    "from sklearn.linear_model import LogisticRegression\n",
    "from sklearn import svm\n",
    "from sklearn.neural_network import MLPClassifier\n",
    "from sklearn.discriminant_analysis import LinearDiscriminantAnalysis\n",
    "from sklearn.ensemble import AdaBoostClassifier\n",
    "import datetime\n",
    "import sklearn\n",
    "from sklearn.metrics import classification_report\n",
    "from sklearn.metrics import confusion_matrix\n",
    "import itertools\n",
    "import numpy as np\n",
    "import matplotlib.pyplot as plt\n",
    "\n",
    "from sklearn import svm, datasets\n",
    "from sklearn.model_selection import train_test_split\n",
    "from sklearn.metrics import confusion_matrix\n",
    "\n"
   ]
  },
  {
   "cell_type": "code",
   "execution_count": null,
   "metadata": {},
   "outputs": [],
   "source": [
    "### DILWSH SINARTISEWN \n",
    "\n",
    "def remove_stopwords(x) :\n",
    "    stop_words= set(stopwords.words(\"english\"))\n",
    "    count=0\n",
    "    for sentence in x : \n",
    "        sentence = [word for word in sentence.lower().split() if word not in stop_words]\n",
    "        sentence=' '.join(sentence)\n",
    "        x.loc[count]=sentence\n",
    "        count+=1\n",
    "    return(x)\n",
    "\n",
    "\n",
    "def remove_punctuation(x):\n",
    "    count = 0\n",
    "    for s in x:\n",
    "        cleanr = re.compile('<.*?>')\n",
    "        s = re.sub(r'\\d+', '', s)\n",
    "        s = re.sub(cleanr, '', s)\n",
    "        s = re.sub(\"'\", '', s)\n",
    "        s = re.sub(r'\\W+', ' ', s)\n",
    "        s = s.replace('_', '')\n",
    "        x.loc[count] = s\n",
    "        count+=1\n",
    "    return(x)\n",
    "\n",
    "def lemma(df):\n",
    "\n",
    "    lmtzr = WordNetLemmatizer()\n",
    "\n",
    "    count = 0\n",
    "    stemmed = []\n",
    "    for sentence in df:    \n",
    "        word_tokens = word_tokenize(sentence)\n",
    "        for word in word_tokens:\n",
    "            stemmed.append(lmtzr.lemmatize(word))\n",
    "        sentence = ' '.join(stemmed)\n",
    "        df.iloc[count] = sentence\n",
    "        count+=1\n",
    "        stemmed = []\n",
    "    return(df)\n",
    "\n",
    "\n",
    "\n",
    "def stemma(df):\n",
    "\n",
    "    stemmer = SnowballStemmer(\"english\") #SnowballStemmer(\"english\", ignore_stopwords=True)\n",
    "\n",
    "    count = 0\n",
    "    stemmed = []\n",
    "    for sentence in df:\n",
    "        word_tokens = word_tokenize(sentence)\n",
    "        for word in word_tokens:\n",
    "            stemmed.append(stemmer.stem(word))\n",
    "        sentence = ' '.join(stemmed)\n",
    "        df.iloc[count] = sentence\n",
    "        count+=1\n",
    "        stemmed = []\n",
    "    return(df)\n",
    "\n",
    "\n",
    "def plot_confusion_matrix(cm, classes,\n",
    "                          normalize=False,\n",
    "                          title='Confusion matrix',\n",
    "                          cmap=plt.cm.Blues):\n",
    "    \"\"\"\n",
    "    This function prints and plots the confusion matrix.\n",
    "    Normalization can be applied by setting `normalize=True`.\n",
    "    \"\"\"\n",
    "    if normalize:\n",
    "        cm = cm.astype('float') / cm.sum(axis=1)[:, np.newaxis]\n",
    "        print(\"Normalized confusion matrix\")\n",
    "    else:\n",
    "        print('Confusion matrix, without normalization')\n",
    "\n",
    "    print(cm)\n",
    "\n",
    "    plt.imshow(cm, interpolation='nearest', cmap=cmap)\n",
    "    plt.title(title)\n",
    "    plt.colorbar()\n",
    "    tick_marks = np.arange(len(classes))\n",
    "    plt.xticks(tick_marks, classes, rotation=45)\n",
    "    plt.yticks(tick_marks, classes)\n",
    "\n",
    "    fmt = '.2f' if normalize else 'd'\n",
    "    thresh = cm.max() / 2.\n",
    "    for i, j in itertools.product(range(cm.shape[0]), range(cm.shape[1])):\n",
    "        plt.text(j, i, format(cm[i, j], fmt),\n",
    "                 horizontalalignment=\"center\",\n",
    "                 color=\"white\" if cm[i, j] > thresh else \"black\")\n",
    "\n",
    "    plt.ylabel('Actual Review')\n",
    "    plt.xlabel('Predicted Review')\n",
    "    plt.tight_layout()\n"
   ]
  },
  {
   "cell_type": "code",
   "execution_count": null,
   "metadata": {},
   "outputs": [],
   "source": [
    "\n",
    "##### DILWSH DATA\n",
    "data = pd.read_csv(\"imdb_master.csv\",encoding=\"latin-1\") \n",
    "data=data[data.label != \"unsup\"]\n",
    "training=data[[\"review\",\"label\"]][data.type.isin([\"train\"])].reset_index(drop=True)\n",
    "test=data[[\"review\",\"label\"]][data.type.isin([\"test\"])].reset_index(drop=True)\n",
    "\n"
   ]
  },
  {
   "cell_type": "code",
   "execution_count": null,
   "metadata": {},
   "outputs": [],
   "source": [
    "########## PREPROCCESS APO SINARTISEIS\n",
    "traintime1=datetime.datetime.now()\n",
    "training[\"review\"]=remove_stopwords(training[\"review\"])\n",
    "training[\"review\"]=remove_punctuation(training[\"review\"])\n",
    "training[\"review\"]=lemma(training[\"review\"])\n",
    "training[\"review\"]=stemma(training[\"review\"])\n",
    "training[\"review\"].head()\n",
    "traintime2=datetime.datetime.now()\n",
    "pretraintimerun=traintime2-traintime1\n",
    "\n"
   ]
  },
  {
   "cell_type": "code",
   "execution_count": null,
   "metadata": {},
   "outputs": [],
   "source": [
    "####### ORIZW KAI SOZW MODELO\n",
    "# create an instance for tree feature selection\n",
    "Logreg = LogisticRegression() #ExtraTreesClassifier()\n",
    "treecl = ExtraTreesClassifier()\n",
    "mlpclass=AdaBoostClassifier(n_estimators=100) #mlpclass=MLPClassifier() \n",
    "\n",
    "cv = TfidfVectorizer()\n",
    "\n",
    "cv2=CountVectorizer()\n",
    "\n",
    "#### tf idf train\n",
    "trainvec1=datetime.datetime.now()\n",
    "x_train = cv.fit_transform(training['review'])\n",
    "trainvec2=datetime.datetime.now()\n",
    "trainvecrun=trainvec2-trainvec1\n",
    "\n",
    "\n",
    "#### count  train\n",
    "trainvec3=datetime.datetime.now()\n",
    "x_train5 = cv2.fit_transform(training['review'])\n",
    "trainvec4=datetime.datetime.now()\n",
    "trainvecrun1=trainvec4-trainvec3\n",
    "\n",
    "    \n",
    "le = LabelEncoder()\n",
    "y = le.fit_transform(training['label'])\n",
    "\n",
    "\n",
    "\n"
   ]
  },
  {
   "cell_type": "code",
   "execution_count": null,
   "metadata": {},
   "outputs": [],
   "source": [
    "\n",
    "\n",
    "testtime1=datetime.datetime.now()\n",
    "test['review']=remove_stopwords(test['review'])\n",
    "test['review']=remove_punctuation(test['review'])\n",
    "test['review']=lemma(test['review'])\n",
    "test['review']=stemma(test['review'])    \n",
    "testtime2=datetime.datetime.now()\n",
    "pretestrun=testtime2-testtime1\n",
    "\n"
   ]
  },
  {
   "cell_type": "code",
   "execution_count": null,
   "metadata": {},
   "outputs": [],
   "source": [
    "\n",
    "\n",
    "\n",
    "#### tf idf test\n",
    "testvec1=datetime.datetime.now()\n",
    "x_test = cv.transform(test['review'])\n",
    "testvec2=datetime.datetime.now()\n",
    "testvecrun=testvec2-testvec1\n",
    "\n",
    "\n",
    "#### count test\n",
    "testvec3=datetime.datetime.now()\n",
    "x_test5 = cv2.transform(test['review'])\n",
    "testvec4=datetime.datetime.now()\n",
    "testvecrun2=testvec4-testvec3\n",
    "\n"
   ]
  },
  {
   "cell_type": "code",
   "execution_count": null,
   "metadata": {},
   "outputs": [],
   "source": [
    "\n",
    "\n",
    "y_test = le.fit_transform(test['label'])\n",
    "\n",
    "#### TF IDF\n",
    "logtime1=datetime.datetime.now()\n",
    "model1=Logreg.fit(x_train, y)\n",
    "logtime2=datetime.datetime.now()\n",
    "logtimerun=logtime2-logtime1\n",
    "\n",
    "treetime1=datetime.datetime.now()\n",
    "model2=treecl.fit(x_train, y)\n",
    "treetime2=datetime.datetime.now()\n",
    "treetimerun=treetime2-treetime1\n",
    "\n",
    "adaboosttime1=datetime.datetime.now()\n",
    "model3=mlpclass.fit(x_train,y)  \n",
    "adaboosttime2=datetime.datetime.now()\n",
    "adaboosttimerun=adaboosttime2-adaboosttime1\n",
    "\n",
    "\n",
    "#### COUNT\n",
    "\n",
    "\n",
    "logtime3=datetime.datetime.now()\n",
    "model4=Logreg.fit(x_train5, y)\n",
    "logtime4=datetime.datetime.now()\n",
    "logtimerun2=logtime4-logtime3\n",
    "\n",
    "treetime3=datetime.datetime.now()\n",
    "model5=treecl.fit(x_train5, y)\n",
    "treetime4=datetime.datetime.now()\n",
    "treetimerun2=treetime4-treetime3\n",
    "\n",
    "adaboosttime3=datetime.datetime.now()\n",
    "model6=mlpclass.fit(x_train5,y)  \n",
    "adaboosttime4=datetime.datetime.now()\n",
    "adaboosttimerun2=adaboosttime4-adaboosttime3\n",
    "\n"
   ]
  },
  {
   "cell_type": "code",
   "execution_count": null,
   "metadata": {},
   "outputs": [],
   "source": [
    "### KANE PINAKA PROVLEPSEWN\n",
    "\n",
    "le = LabelEncoder()\n",
    "y2 = le.fit_transform(test['label'])\n",
    "\n",
    "\n",
    "### TFI IDF PREDS\n",
    "preds=model1.predict(x_test)\n",
    "preds2=model2.predict(x_test)\n",
    "preds3=model3.predict(x_test)\n",
    "\n",
    "\n",
    "#COUNT PREDS\n",
    "preds4=model4.predict(x_test5)\n",
    "preds5=model5.predict(x_test5)\n",
    "preds6=model6.predict(x_test5)\n",
    "\n",
    "\n",
    "\n",
    "\n",
    "actuals = np.array(y2)\n",
    "\n",
    "\n",
    "### TFIDF PREDS\n",
    "predictions = np.array(preds)\n",
    "predictions2= np.array(preds2)\n",
    "predictions3=np.array(preds3)\n",
    "\n",
    "### COUNT PREDS\n",
    "predictions4 = np.array(preds4)\n",
    "predictions5= np.array(preds5)\n",
    "predictions6=np.array(preds6)\n",
    "\n",
    "\n",
    "\n"
   ]
  },
  {
   "cell_type": "code",
   "execution_count": null,
   "metadata": {},
   "outputs": [],
   "source": [
    "#TFIDF DATASETS\n",
    "dataset = pd.DataFrame({'actuals': actuals, 'predictions': predictions}, columns=['actuals', 'predictions'])\n",
    "dataset2 = pd.DataFrame({'actuals': actuals, 'predictions': predictions2}, columns=['actuals', 'predictions'])\n",
    "dataset3 = pd.DataFrame({'actuals': actuals, 'predictions': predictions3}, columns=['actuals', 'predictions'])\n",
    "\n",
    "\n",
    "# COUNT DATASETS\n",
    "dataset4 = pd.DataFrame({'actuals': actuals, 'predictions': predictions4}, columns=['actuals', 'predictions'])\n",
    "dataset5 = pd.DataFrame({'actuals': actuals, 'predictions': predictions5}, columns=['actuals', 'predictions'])\n",
    "dataset6 = pd.DataFrame({'actuals': actuals, 'predictions': predictions6}, columns=['actuals', 'predictions'])"
   ]
  },
  {
   "cell_type": "code",
   "execution_count": null,
   "metadata": {},
   "outputs": [],
   "source": [
    "# TF IDF ACCURACIES\n",
    "accuracy=dataset[dataset[\"predictions\"]==dataset[\"actuals\"]].count()[1]/dataset[\"predictions\"].count()\n",
    "accuracy2=dataset2[dataset2[\"predictions\"]==dataset2[\"actuals\"]].count()[1]/dataset2[\"predictions\"].count()\n",
    "accuracy3=dataset3[dataset3[\"predictions\"]==dataset3[\"actuals\"]].count()[1]/dataset3[\"predictions\"].count()"
   ]
  },
  {
   "cell_type": "code",
   "execution_count": null,
   "metadata": {},
   "outputs": [],
   "source": [
    "# count ACCURACIES\n",
    "accuracy4=dataset4[dataset4[\"predictions\"]==dataset4[\"actuals\"]].count()[1]/dataset4[\"predictions\"].count()\n",
    "accuracy5=dataset5[dataset5[\"predictions\"]==dataset5[\"actuals\"]].count()[1]/dataset5[\"predictions\"].count()\n",
    "accuracy6=dataset6[dataset6[\"predictions\"]==dataset6[\"actuals\"]].count()[1]/dataset6[\"predictions\"].count()"
   ]
  },
  {
   "cell_type": "code",
   "execution_count": null,
   "metadata": {},
   "outputs": [],
   "source": [
    "print(accuracy,\"in\",logtimerun,\"seconds\",\"TF - IDF\")"
   ]
  },
  {
   "cell_type": "code",
   "execution_count": null,
   "metadata": {},
   "outputs": [],
   "source": [
    "print(accuracy2,\"in\",treetimerun,\"seconds\",\"TF - IDF\")"
   ]
  },
  {
   "cell_type": "code",
   "execution_count": null,
   "metadata": {},
   "outputs": [],
   "source": [
    "print(accuracy3,\"in\",adaboosttimerun,\"seconds\",\"TF - IDF\")"
   ]
  },
  {
   "cell_type": "code",
   "execution_count": null,
   "metadata": {},
   "outputs": [],
   "source": [
    "print(accuracy4,\"in\",logtimerun2,\"seconds\",\"With Count Vectorizer\")"
   ]
  },
  {
   "cell_type": "code",
   "execution_count": null,
   "metadata": {},
   "outputs": [],
   "source": [
    "print(accuracy5,\"in\",treetimerun2,\"seconds\",\"With Count Vectorizer\")"
   ]
  },
  {
   "cell_type": "code",
   "execution_count": null,
   "metadata": {},
   "outputs": [],
   "source": [
    "print(accuracy6,\"in\",adaboosttimerun2,\"seconds\",\"With Count Vectorizer\")"
   ]
  },
  {
   "cell_type": "code",
   "execution_count": null,
   "metadata": {},
   "outputs": [],
   "source": [
    "########### APOTHIKEYSEIS\n",
    "x_train2 = cv2.fit(training['review'])\n",
    "pickle.dump(x_train2, open(\"tfidf1.pkl\", \"wb\"))\n",
    "tf1 = pickle.load(open(\"tfidf1.pkl\", 'rb'))\n",
    "\n",
    "filename = 'Logregtfidf.sav'\n",
    "pickle.dump(model4, open(filename, 'wb'))\n",
    "\n",
    "filename2 = 'ExtraTreeId.sav'\n",
    "pickle.dump(model2, open(filename2, 'wb'))\n",
    "\n",
    "filename3 = 'svm.sav'\n",
    "pickle.dump(model3, open(filename3, 'wb'))\n",
    "\n",
    "\n"
   ]
  },
  {
   "cell_type": "code",
   "execution_count": null,
   "metadata": {},
   "outputs": [],
   "source": [
    "loaded_model = pickle.load(open(filename, 'rb'))\n",
    "loaded_model"
   ]
  },
  {
   "cell_type": "code",
   "execution_count": null,
   "metadata": {},
   "outputs": [],
   "source": [
    "loaded_model2 = pickle.load(open(filename2, 'rb'))\n",
    "loaded_model2"
   ]
  },
  {
   "cell_type": "code",
   "execution_count": null,
   "metadata": {},
   "outputs": [],
   "source": [
    "loaded_model3 = pickle.load(open(filename3, 'rb'))\n",
    "loaded_model3"
   ]
  },
  {
   "cell_type": "code",
   "execution_count": null,
   "metadata": {},
   "outputs": [],
   "source": [
    "### XRONOS PREPROCESS TOU TRAIN\n",
    "print(\"TRAIN preprocess TF IDF time is\",pretraintimerun)"
   ]
  },
  {
   "cell_type": "code",
   "execution_count": null,
   "metadata": {},
   "outputs": [],
   "source": [
    "### XRONOS PREPROCESS TOU TEST\n",
    "print(\"TEST preprocess TF IDF time is\",pretestrun)"
   ]
  },
  {
   "cell_type": "code",
   "execution_count": null,
   "metadata": {},
   "outputs": [],
   "source": [
    "### XRONOS TOU VECTORIZATION TOU TRAIN\n",
    "print(\"TRAIN VECTORIZATION TF IDF  time is\",trainvecrun)"
   ]
  },
  {
   "cell_type": "code",
   "execution_count": null,
   "metadata": {},
   "outputs": [],
   "source": [
    "### XRONOS TOU VECTORIZATION TOU TEST\n",
    "print(\"TEST VECTORIZATION TF IDF time is\",testvecrun)"
   ]
  },
  {
   "cell_type": "code",
   "execution_count": null,
   "metadata": {},
   "outputs": [],
   "source": [
    "print(\"TRAIN VECTORIZATION count  time is\",trainvecrun1)"
   ]
  },
  {
   "cell_type": "code",
   "execution_count": null,
   "metadata": {},
   "outputs": [],
   "source": [
    "print(\"TEST VECTORIZATION count time is\",testvecrun2)"
   ]
  },
  {
   "cell_type": "code",
   "execution_count": null,
   "metadata": {},
   "outputs": [],
   "source": [
    "list_pred=np.array(preds).tolist()\n",
    "list_pred2=np.array(preds2).tolist()\n",
    "list_pred3=np.array(preds3).tolist()\n",
    "list_pred4=np.array(preds4).tolist()\n",
    "list_pred5=np.array(preds5).tolist()\n",
    "list_pred6=np.array(preds6).tolist()\n",
    "\n",
    "\n",
    "list_test=np.array(y_test).tolist()\n",
    "\n",
    "confmalog=confusion_matrix(list_test, list_pred)\n",
    "confmatree=confusion_matrix(list_test, list_pred2)\n",
    "confmaada=confusion_matrix(list_test, list_pred3)\n",
    "\n",
    "\n",
    "confmalog2=confusion_matrix(list_test, list_pred4)\n",
    "confmatree2=confusion_matrix(list_test, list_pred5)\n",
    "confmaada2=confusion_matrix(list_test, list_pred6)"
   ]
  },
  {
   "cell_type": "code",
   "execution_count": null,
   "metadata": {},
   "outputs": [],
   "source": [
    "target_names = ['Negative Reviews', 'Positive Reviews']\n",
    "print(classification_report(list_test, list_pred, target_names=target_names))"
   ]
  },
  {
   "cell_type": "code",
   "execution_count": null,
   "metadata": {},
   "outputs": [],
   "source": [
    "target_names = ['Negative Reviews', 'Positive Reviews']\n",
    "print(classification_report(list_test, list_pred2, target_names=target_names))"
   ]
  },
  {
   "cell_type": "code",
   "execution_count": null,
   "metadata": {},
   "outputs": [],
   "source": [
    "target_names = ['Negative Reviews', 'Positive Reviews']\n",
    "print(classification_report(list_test, list_pred3, target_names=target_names))"
   ]
  },
  {
   "cell_type": "code",
   "execution_count": null,
   "metadata": {},
   "outputs": [],
   "source": [
    "target_names = ['Negative Reviews', 'Positive Reviews']\n",
    "print(classification_report(list_test, list_pred4, target_names=target_names))"
   ]
  },
  {
   "cell_type": "code",
   "execution_count": null,
   "metadata": {},
   "outputs": [],
   "source": [
    "target_names = ['Negative Reviews', 'Positive Reviews']\n",
    "print(classification_report(list_test, list_pred5, target_names=target_names))"
   ]
  },
  {
   "cell_type": "code",
   "execution_count": null,
   "metadata": {},
   "outputs": [],
   "source": [
    "target_names = ['Negative Reviews', 'Positive Reviews']\n",
    "print(classification_report(list_test, list_pred6, target_names=target_names))"
   ]
  },
  {
   "cell_type": "code",
   "execution_count": null,
   "metadata": {},
   "outputs": [],
   "source": [
    "confmalog"
   ]
  },
  {
   "cell_type": "code",
   "execution_count": null,
   "metadata": {},
   "outputs": [],
   "source": [
    "confmatree"
   ]
  },
  {
   "cell_type": "code",
   "execution_count": null,
   "metadata": {},
   "outputs": [],
   "source": [
    "confmaada"
   ]
  },
  {
   "cell_type": "code",
   "execution_count": null,
   "metadata": {},
   "outputs": [],
   "source": [
    "confmalog2"
   ]
  },
  {
   "cell_type": "code",
   "execution_count": null,
   "metadata": {},
   "outputs": [],
   "source": [
    "confmatree2"
   ]
  },
  {
   "cell_type": "code",
   "execution_count": null,
   "metadata": {},
   "outputs": [],
   "source": [
    "confmaada2"
   ]
  },
  {
   "cell_type": "code",
   "execution_count": null,
   "metadata": {},
   "outputs": [],
   "source": [
    "class_names = [\"positive\",\"negative\"]\n",
    "plot_confusion_matrix(confmalog, classes=class_names, normalize=False,\n",
    "                      title='Confusion Matrix Logistic Regression with TF-IDF')\n",
    "\n",
    "\n"
   ]
  },
  {
   "cell_type": "code",
   "execution_count": null,
   "metadata": {},
   "outputs": [],
   "source": [
    "plot_confusion_matrix(confmatree, classes=class_names, normalize=False,\n",
    "                      title='Confusion Matrix Trees with TF-IDF')\n"
   ]
  },
  {
   "cell_type": "code",
   "execution_count": null,
   "metadata": {},
   "outputs": [],
   "source": [
    "plot_confusion_matrix(confmaada, classes=class_names, normalize=False,\n",
    "                      title='Confusion Matrix Ada Boost with TFIDF')\n"
   ]
  },
  {
   "cell_type": "code",
   "execution_count": null,
   "metadata": {},
   "outputs": [],
   "source": [
    "plot_confusion_matrix(confmalog2, classes=class_names, normalize=False,\n",
    "                      title='Confusion Matrix Logistic with Count Vectorization')\n"
   ]
  },
  {
   "cell_type": "code",
   "execution_count": null,
   "metadata": {},
   "outputs": [],
   "source": [
    "plot_confusion_matrix(confmatree, classes=class_names, normalize=False,\n",
    "                      title='Confusion Matrix Trees with Count Vectorization')\n"
   ]
  },
  {
   "cell_type": "code",
   "execution_count": null,
   "metadata": {},
   "outputs": [],
   "source": [
    "plot_confusion_matrix(confmaada2, classes=class_names, normalize=False,\n",
    "                      title='Confusion Matrix Ada Boost with Count Vectorization')\n"
   ]
  },
  {
   "cell_type": "code",
   "execution_count": null,
   "metadata": {},
   "outputs": [],
   "source": []
  },
  {
   "cell_type": "code",
   "execution_count": null,
   "metadata": {},
   "outputs": [],
   "source": []
  }
 ],
 "metadata": {
  "kernelspec": {
   "display_name": "Python 3",
   "language": "python",
   "name": "python3"
  },
  "language_info": {
   "codemirror_mode": {
    "name": "ipython",
    "version": 3
   },
   "file_extension": ".py",
   "mimetype": "text/x-python",
   "name": "python",
   "nbconvert_exporter": "python",
   "pygments_lexer": "ipython3",
   "version": "3.6.9"
  }
 },
 "nbformat": 4,
 "nbformat_minor": 2
}
